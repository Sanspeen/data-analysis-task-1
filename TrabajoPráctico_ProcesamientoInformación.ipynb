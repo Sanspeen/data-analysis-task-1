{
 "cells": [
  {
   "cell_type": "markdown",
   "metadata": {},
   "source": [
    "# Trabajo Práctico: Procesamiento de datos\n",
    "\n",
    "En la carpeta `data` se encuentra los datos crudos de ventas durante el 2022 de las diferentes sedes de una cadeda de tiendas DuttyFree ubicadas en distintos aeropuertos del país. Esta información se encuentra en distintos archivos en formato `.parquet` los cuales deben ser reconstruidos. La compañía desea analizar los datos para apoyar su proceso de toma de decisiones. Sin embargo, estos datos son recolectados manualmente desde cada una de las sedes por lo que se requiere previamente realizar una limpieza y procesamiento de los datos.\n",
    "\n",
    "## Carga de configuraciones:"
   ]
  },
  {
   "cell_type": "code",
   "execution_count": 1,
   "metadata": {},
   "outputs": [],
   "source": [
    "import pandas as pd\n",
    "import matplotlib.pylab as plt\n",
    "import os\n",
    "pd.set_option('max_columns', 50)"
   ]
  },
  {
   "cell_type": "markdown",
   "metadata": {},
   "source": [
    "## Reconstrucción de los datos\n",
    "\n",
    "Para manejar datos de archivos `.parquet` se requiere tener instalado uno de los siguientes paquetes: `pyarrow` o `fastparquet`. Para instalarlos, ejecute alguno de los siguientes comandos:\n",
    "\n",
    "```\n",
    "!pip install pyarrow\n",
    "!pip install fastparquet\n",
    "```\n",
    "\n",
    "Lea y reconstruya los datos unificandolos en un mismo DataFrame. Luego, conteste las siguientes preguntas:\n",
    "\n",
    "1. ¿Cuántos registros tienen los datos?\n",
    "2. ¿Cuántas columnas tienen los datos?\n",
    "3. De una breve explicación de los datos que contiene cada columna.\n",
    "4. ¿Existe alguna columna que contenga un 'identificador único'? ¿Existen registros duplicados en este campo?\n",
    "5. Haga un recuento de valores para cada columna categórica. ¿Existen valores con un mismo significado?"
   ]
  },
  {
   "cell_type": "code",
   "execution_count": null,
   "metadata": {},
   "outputs": [],
   "source": []
  },
  {
   "cell_type": "markdown",
   "metadata": {},
   "source": [
    "## Manipulación de datos\n",
    "\n",
    "Luego de reconstruir y analizar los datos, se identificaron opciones de mejorar la calidad de los datos. Realice:\n",
    "\n",
    "1. Elimine columnas que contengan datos duplicados.\n",
    "2. Para las columnas categóricas, unifique los valores con significados duplicados."
   ]
  },
  {
   "cell_type": "code",
   "execution_count": null,
   "metadata": {},
   "outputs": [],
   "source": []
  },
  {
   "cell_type": "markdown",
   "metadata": {},
   "source": [
    "## Agrupación de datos\n",
    "\n",
    "Luego de haber hecho una limpieza de datos, conteste las siguientes preguntas:\n",
    "\n",
    "1. ¿Cuánto fue el total de ventas de cada tienda?\n",
    "2. ¿Cuánto fue el total de ventas en pesos colombianos de cada tienda? Utilice el valor actual de la divisa para la conversión.\n",
    "3. ¿Cuánto fue el total de ventas de cada zona?\n",
    "4. ¿Cuánto fue el total de ventas en pesos colombianos de cada zona? Utilice el valor actual de la divisa para la conversión.\n",
    "5. ¿Qué porcentaje de compras llevaron bolsas?\n",
    "6. ¿Cuanto pagó por concepto de IVA cada tienda durante el año?\n",
    "7. ¿Cúal fue el día con mayor cantidad de transacciones?\n",
    "8. ¿De las compras realizadas con tarjetas de crédito, cuál fue la franquicia con mayor monto de ventas por divisa?\n",
    "9. ¿Cuál fue el mes con menos cantidad de transacciones?\n",
    "10. ¿Por cada tienda, qué día de la semana es el de menor cantidad de ventas?"
   ]
  },
  {
   "cell_type": "code",
   "execution_count": null,
   "metadata": {},
   "outputs": [],
   "source": []
  },
  {
   "cell_type": "markdown",
   "metadata": {},
   "source": [
    "# Gráficas de datos\n",
    "\n",
    "Realice los siguientes gráficos:\n",
    "\n",
    "1. Un histograma de frecuencias de la cantidad de ventas por día.\n",
    "2. Un gráfico lineal con el monto de ventas diarias. Utilice un eje cada divisa según su magnitud.\n",
    "3. Un gráfico de barras del total del monto de ventas (en Pesos Colombianos) por cada tienda durante el año.\n",
    "4. Un gráfico circular del monto total de ventas (en Pesos Colombianos) por zonas\n",
    "5. Un gráfico de dispersión del monto de ventas (en Pesos Colombianos) vs El día del mes (1 al 31). Utilice distintos marcadores y colores para indicar el tipo de tránsito y la nacionalidad del comprador.\n",
    "\n",
    "`TIP`: utilice [matplotlib](https://matplotlib.org/cheatsheets/) para realizar los gráficos.\n",
    "\n"
   ]
  },
  {
   "cell_type": "code",
   "execution_count": null,
   "metadata": {},
   "outputs": [],
   "source": []
  },
  {
   "cell_type": "markdown",
   "metadata": {},
   "source": [
    "## Visualizaciones adicionales: Mapas\n",
    "\n",
    "Los datos poseen latitud y longitud de cada una de las sedes de la compañía. Realice un Mapa interactivo donde coloque un marcador en cada una de las sedes y que adicional muestre:\n",
    "\n",
    "- Nombre de la tienda.\n",
    "- ID de la tienda.\n",
    "- Aeropuerto y ciudad.\n",
    "- Sigla del aeropuerto.\n",
    "- Región.\n",
    "- Cantidad de ventas realizadas.\n",
    "- Suma total de las ventas (En COP).\n",
    "\n",
    "`TIP`: Puede utilizar (Folium)[https://python-visualization.github.io/folium/quickstart.html] para realizar el mapa."
   ]
  },
  {
   "cell_type": "code",
   "execution_count": null,
   "metadata": {},
   "outputs": [],
   "source": []
  }
 ],
 "metadata": {
  "kernelspec": {
   "display_name": "Python 3",
   "language": "python",
   "name": "python3"
  },
  "language_info": {
   "codemirror_mode": {
    "name": "ipython",
    "version": 3
   },
   "file_extension": ".py",
   "mimetype": "text/x-python",
   "name": "python",
   "nbconvert_exporter": "python",
   "pygments_lexer": "ipython3",
   "version": "3.8.5"
  }
 },
 "nbformat": 4,
 "nbformat_minor": 4
}
